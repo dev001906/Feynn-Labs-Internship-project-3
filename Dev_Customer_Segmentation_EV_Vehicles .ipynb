{
 "cells": [
  {
   "cell_type": "code",
   "execution_count": 1,
   "id": "14b597fd",
   "metadata": {},
   "outputs": [],
   "source": [
    "import numpy as np\n",
    "import pandas as pd\n",
    "import seaborn as sns\n",
    "import matplotlib.pyplot as plt\n",
    "import sklearn\n",
    "%matplotlib inline"
   ]
  },
  {
   "cell_type": "code",
   "execution_count": 45,
   "id": "86b84781",
   "metadata": {},
   "outputs": [],
   "source": [
    "df_Og = pd.read_csv('C:/Users/dev/EV_Data.csv')\n",
    "pd.set_option('display.float_format', lambda x: '%.3f' % x)\n",
    "df = df_Og.copy()"
   ]
  },
  {
   "cell_type": "code",
   "execution_count": 46,
   "id": "7ea95d9d",
   "metadata": {},
   "outputs": [
    {
     "data": {
      "text/html": [
       "<div>\n",
       "<style scoped>\n",
       "    .dataframe tbody tr th:only-of-type {\n",
       "        vertical-align: middle;\n",
       "    }\n",
       "\n",
       "    .dataframe tbody tr th {\n",
       "        vertical-align: top;\n",
       "    }\n",
       "\n",
       "    .dataframe thead th {\n",
       "        text-align: right;\n",
       "    }\n",
       "</style>\n",
       "<table border=\"1\" class=\"dataframe\">\n",
       "  <thead>\n",
       "    <tr style=\"text-align: right;\">\n",
       "      <th></th>\n",
       "      <th>Unnamed: 0</th>\n",
       "      <th>Age</th>\n",
       "      <th>City</th>\n",
       "      <th>Profession</th>\n",
       "      <th>Marital Status</th>\n",
       "      <th>Education</th>\n",
       "      <th>No. of Family members</th>\n",
       "      <th>Annual Income</th>\n",
       "      <th>Would you prefer replacing all your vehicles to Electronic vehicles?</th>\n",
       "      <th>If Yes/Maybe what type of  EV would you prefer?</th>\n",
       "      <th>Do you think Electronic Vehicles are economical?</th>\n",
       "      <th>Which brand of vehicle do you currently own?</th>\n",
       "      <th>How much money could you spend on an Electronic vehicle?</th>\n",
       "      <th>Preference for wheels in EV</th>\n",
       "      <th>Do you think Electronic vehicles will replace fuel cars in India?</th>\n",
       "    </tr>\n",
       "  </thead>\n",
       "  <tbody>\n",
       "    <tr>\n",
       "      <th>0</th>\n",
       "      <td>0</td>\n",
       "      <td>30</td>\n",
       "      <td>Nabha</td>\n",
       "      <td>None</td>\n",
       "      <td>Single</td>\n",
       "      <td>Graduate</td>\n",
       "      <td>5</td>\n",
       "      <td>1193875.647</td>\n",
       "      <td>Maybe</td>\n",
       "      <td>SUV</td>\n",
       "      <td>Yes</td>\n",
       "      <td>Hyundai</td>\n",
       "      <td>&lt;5 lakhs</td>\n",
       "      <td>2</td>\n",
       "      <td>I don't think so</td>\n",
       "    </tr>\n",
       "    <tr>\n",
       "      <th>1</th>\n",
       "      <td>1</td>\n",
       "      <td>27</td>\n",
       "      <td>Pune</td>\n",
       "      <td>None</td>\n",
       "      <td>Single</td>\n",
       "      <td>Graduate</td>\n",
       "      <td>4</td>\n",
       "      <td>1844540.398</td>\n",
       "      <td>Yes</td>\n",
       "      <td>SUV</td>\n",
       "      <td>Yes</td>\n",
       "      <td>Honda</td>\n",
       "      <td>&lt;15 lakhs</td>\n",
       "      <td>4</td>\n",
       "      <td>Yes, in &lt;20years</td>\n",
       "    </tr>\n",
       "    <tr>\n",
       "      <th>2</th>\n",
       "      <td>2</td>\n",
       "      <td>32</td>\n",
       "      <td>Kashipur</td>\n",
       "      <td>None</td>\n",
       "      <td>Single</td>\n",
       "      <td>Graduate</td>\n",
       "      <td>4</td>\n",
       "      <td>2948150.113</td>\n",
       "      <td>Yes</td>\n",
       "      <td>Hatchback</td>\n",
       "      <td>Yes</td>\n",
       "      <td>KIA</td>\n",
       "      <td>&lt;15 lakhs</td>\n",
       "      <td>4</td>\n",
       "      <td>Yes, in &lt;20years</td>\n",
       "    </tr>\n",
       "    <tr>\n",
       "      <th>3</th>\n",
       "      <td>3</td>\n",
       "      <td>55</td>\n",
       "      <td>Pune</td>\n",
       "      <td>Business</td>\n",
       "      <td>Single</td>\n",
       "      <td>Graduate</td>\n",
       "      <td>3</td>\n",
       "      <td>2832379.739</td>\n",
       "      <td>Maybe</td>\n",
       "      <td>Hatchback</td>\n",
       "      <td>No</td>\n",
       "      <td>Hyundai</td>\n",
       "      <td>&lt;5 lakhs</td>\n",
       "      <td>4</td>\n",
       "      <td>Yes, in &lt;10 years</td>\n",
       "    </tr>\n",
       "    <tr>\n",
       "      <th>4</th>\n",
       "      <td>4</td>\n",
       "      <td>26</td>\n",
       "      <td>Satara</td>\n",
       "      <td>None</td>\n",
       "      <td>Single</td>\n",
       "      <td>Graduate</td>\n",
       "      <td>4</td>\n",
       "      <td>2638750.576</td>\n",
       "      <td>Yes</td>\n",
       "      <td>Sedan</td>\n",
       "      <td>Yes</td>\n",
       "      <td>McLaren</td>\n",
       "      <td>&lt;15 lakhs</td>\n",
       "      <td>4</td>\n",
       "      <td>Yes, in &lt;20years</td>\n",
       "    </tr>\n",
       "  </tbody>\n",
       "</table>\n",
       "</div>"
      ],
      "text/plain": [
       "   Unnamed: 0  Age       City Profession Marital Status Education  \\\n",
       "0           0   30      Nabha       None         Single  Graduate   \n",
       "1           1   27       Pune       None         Single  Graduate   \n",
       "2           2   32  Kashipur        None         Single  Graduate   \n",
       "3           3   55       Pune   Business         Single  Graduate   \n",
       "4           4   26     Satara       None         Single  Graduate   \n",
       "\n",
       "   No. of Family members  Annual Income  \\\n",
       "0                      5    1193875.647   \n",
       "1                      4    1844540.398   \n",
       "2                      4    2948150.113   \n",
       "3                      3    2832379.739   \n",
       "4                      4    2638750.576   \n",
       "\n",
       "  Would you prefer replacing all your vehicles to Electronic vehicles?  \\\n",
       "0                                              Maybe                     \n",
       "1                                                Yes                     \n",
       "2                                                Yes                     \n",
       "3                                              Maybe                     \n",
       "4                                                Yes                     \n",
       "\n",
       "  If Yes/Maybe what type of  EV would you prefer?  \\\n",
       "0                                             SUV   \n",
       "1                                             SUV   \n",
       "2                                       Hatchback   \n",
       "3                                       Hatchback   \n",
       "4                                           Sedan   \n",
       "\n",
       "  Do you think Electronic Vehicles are economical?  \\\n",
       "0                                              Yes   \n",
       "1                                              Yes   \n",
       "2                                              Yes   \n",
       "3                                               No   \n",
       "4                                              Yes   \n",
       "\n",
       "  Which brand of vehicle do you currently own?  \\\n",
       "0                                      Hyundai   \n",
       "1                                        Honda   \n",
       "2                                          KIA   \n",
       "3                                      Hyundai   \n",
       "4                                     McLaren    \n",
       "\n",
       "  How much money could you spend on an Electronic vehicle?  \\\n",
       "0                                           <5 lakhs         \n",
       "1                                          <15 lakhs         \n",
       "2                                          <15 lakhs         \n",
       "3                                           <5 lakhs         \n",
       "4                                          <15 lakhs         \n",
       "\n",
       "   Preference for wheels in EV  \\\n",
       "0                            2   \n",
       "1                            4   \n",
       "2                            4   \n",
       "3                            4   \n",
       "4                            4   \n",
       "\n",
       "  Do you think Electronic vehicles will replace fuel cars in India?  \n",
       "0                                   I don't think so                 \n",
       "1                                   Yes, in <20years                 \n",
       "2                                   Yes, in <20years                 \n",
       "3                                  Yes, in <10 years                 \n",
       "4                                   Yes, in <20years                 "
      ]
     },
     "execution_count": 46,
     "metadata": {},
     "output_type": "execute_result"
    }
   ],
   "source": [
    "df.head()  "
   ]
  },
  {
   "cell_type": "code",
   "execution_count": 47,
   "id": "023d2f7a",
   "metadata": {},
   "outputs": [
    {
     "data": {
      "text/plain": [
       "Unnamed: 0                                                              0\n",
       "Age                                                                     0\n",
       "City                                                                    0\n",
       "Profession                                                              0\n",
       "Marital Status                                                          0\n",
       "Education                                                               0\n",
       "No. of Family members                                                   0\n",
       "Annual Income                                                           0\n",
       "Would you prefer replacing all your vehicles to Electronic vehicles?    0\n",
       "If Yes/Maybe what type of  EV would you prefer?                         0\n",
       "Do you think Electronic Vehicles are economical?                        0\n",
       "Which brand of vehicle do you currently own?                            0\n",
       "How much money could you spend on an Electronic vehicle?                0\n",
       "Preference for wheels in EV                                             0\n",
       "Do you think Electronic vehicles will replace fuel cars in India?       0\n",
       "dtype: int64"
      ]
     },
     "execution_count": 47,
     "metadata": {},
     "output_type": "execute_result"
    }
   ],
   "source": [
    "# checking for null data \n",
    "df.isnull().sum()\n",
    "#as we can see there are no null values"
   ]
  },
  {
   "cell_type": "code",
   "execution_count": 48,
   "id": "91640c96",
   "metadata": {},
   "outputs": [
    {
     "data": {
      "text/plain": [
       "['Unnamed: 0',\n",
       " 'Age',\n",
       " 'City',\n",
       " 'Profession',\n",
       " 'Marital Status',\n",
       " 'Education',\n",
       " 'No. of Family members',\n",
       " 'Annual Income',\n",
       " 'Would you prefer replacing all your vehicles to Electronic vehicles?',\n",
       " 'If Yes/Maybe what type of  EV would you prefer?',\n",
       " 'Do you think Electronic Vehicles are economical?',\n",
       " 'Which brand of vehicle do you currently own?',\n",
       " 'How much money could you spend on an Electronic vehicle?',\n",
       " 'Preference for wheels in EV',\n",
       " 'Do you think Electronic vehicles will replace fuel cars in India?']"
      ]
     },
     "execution_count": 48,
     "metadata": {},
     "output_type": "execute_result"
    }
   ],
   "source": [
    "list(df.columns.values)"
   ]
  },
  {
   "cell_type": "code",
   "execution_count": 49,
   "id": "cf3542ac",
   "metadata": {},
   "outputs": [
    {
     "data": {
      "text/html": [
       "<div>\n",
       "<style scoped>\n",
       "    .dataframe tbody tr th:only-of-type {\n",
       "        vertical-align: middle;\n",
       "    }\n",
       "\n",
       "    .dataframe tbody tr th {\n",
       "        vertical-align: top;\n",
       "    }\n",
       "\n",
       "    .dataframe thead th {\n",
       "        text-align: right;\n",
       "    }\n",
       "</style>\n",
       "<table border=\"1\" class=\"dataframe\">\n",
       "  <thead>\n",
       "    <tr style=\"text-align: right;\">\n",
       "      <th></th>\n",
       "      <th>Unnamed: 0</th>\n",
       "      <th>Age</th>\n",
       "      <th>No. of Family members</th>\n",
       "      <th>Annual Income</th>\n",
       "      <th>Preference for wheels in EV</th>\n",
       "    </tr>\n",
       "  </thead>\n",
       "  <tbody>\n",
       "    <tr>\n",
       "      <th>count</th>\n",
       "      <td>1000.000</td>\n",
       "      <td>1000.000</td>\n",
       "      <td>1000.000</td>\n",
       "      <td>1000.000</td>\n",
       "      <td>1000.000</td>\n",
       "    </tr>\n",
       "    <tr>\n",
       "      <th>mean</th>\n",
       "      <td>499.500</td>\n",
       "      <td>31.800</td>\n",
       "      <td>4.118</td>\n",
       "      <td>2258341.824</td>\n",
       "      <td>3.349</td>\n",
       "    </tr>\n",
       "    <tr>\n",
       "      <th>std</th>\n",
       "      <td>288.819</td>\n",
       "      <td>11.295</td>\n",
       "      <td>1.470</td>\n",
       "      <td>999355.758</td>\n",
       "      <td>0.888</td>\n",
       "    </tr>\n",
       "    <tr>\n",
       "      <th>min</th>\n",
       "      <td>0.000</td>\n",
       "      <td>15.000</td>\n",
       "      <td>0.000</td>\n",
       "      <td>-376150.863</td>\n",
       "      <td>2.000</td>\n",
       "    </tr>\n",
       "    <tr>\n",
       "      <th>25%</th>\n",
       "      <td>249.750</td>\n",
       "      <td>26.000</td>\n",
       "      <td>4.000</td>\n",
       "      <td>1782115.520</td>\n",
       "      <td>2.000</td>\n",
       "    </tr>\n",
       "    <tr>\n",
       "      <th>50%</th>\n",
       "      <td>499.500</td>\n",
       "      <td>29.000</td>\n",
       "      <td>4.000</td>\n",
       "      <td>2329246.375</td>\n",
       "      <td>4.000</td>\n",
       "    </tr>\n",
       "    <tr>\n",
       "      <th>75%</th>\n",
       "      <td>749.250</td>\n",
       "      <td>31.000</td>\n",
       "      <td>5.000</td>\n",
       "      <td>2753169.612</td>\n",
       "      <td>4.000</td>\n",
       "    </tr>\n",
       "    <tr>\n",
       "      <th>max</th>\n",
       "      <td>999.000</td>\n",
       "      <td>118.000</td>\n",
       "      <td>8.000</td>\n",
       "      <td>12821282.030</td>\n",
       "      <td>4.000</td>\n",
       "    </tr>\n",
       "  </tbody>\n",
       "</table>\n",
       "</div>"
      ],
      "text/plain": [
       "       Unnamed: 0      Age  No. of Family members  Annual Income  \\\n",
       "count    1000.000 1000.000               1000.000       1000.000   \n",
       "mean      499.500   31.800                  4.118    2258341.824   \n",
       "std       288.819   11.295                  1.470     999355.758   \n",
       "min         0.000   15.000                  0.000    -376150.863   \n",
       "25%       249.750   26.000                  4.000    1782115.520   \n",
       "50%       499.500   29.000                  4.000    2329246.375   \n",
       "75%       749.250   31.000                  5.000    2753169.612   \n",
       "max       999.000  118.000                  8.000   12821282.030   \n",
       "\n",
       "       Preference for wheels in EV  \n",
       "count                     1000.000  \n",
       "mean                         3.349  \n",
       "std                          0.888  \n",
       "min                          2.000  \n",
       "25%                          2.000  \n",
       "50%                          4.000  \n",
       "75%                          4.000  \n",
       "max                          4.000  "
      ]
     },
     "execution_count": 49,
     "metadata": {},
     "output_type": "execute_result"
    }
   ],
   "source": [
    "df.describe()"
   ]
  },
  {
   "cell_type": "code",
   "execution_count": 50,
   "id": "95e29633",
   "metadata": {},
   "outputs": [
    {
     "data": {
      "text/plain": [
       "(1000, 15)"
      ]
     },
     "execution_count": 50,
     "metadata": {},
     "output_type": "execute_result"
    }
   ],
   "source": [
    "df.shape"
   ]
  },
  {
   "cell_type": "code",
   "execution_count": 51,
   "id": "8d264bbd",
   "metadata": {},
   "outputs": [
    {
     "data": {
      "text/plain": [
       "array([ 30,  27,  32,  55,  26,  28,  23,  25,  43,  59,  21,  29,  56,\n",
       "        70,  50,  24,  61,  39,  31,  40,  18,  58,  22,  96,  64,  52,\n",
       "        54,  42,  49,  57,  46,  36,  20,  19,  65,  17,  60,  44,  45,\n",
       "        47,  82,  33,  37,  48,  69,  67,  86,  62,  66,  34,  63,  41,\n",
       "        68,  16,  53,  15, 118,  38], dtype=int64)"
      ]
     },
     "execution_count": 51,
     "metadata": {},
     "output_type": "execute_result"
    }
   ],
   "source": [
    "df['Age'].unique()"
   ]
  },
  {
   "cell_type": "code",
   "execution_count": 52,
   "id": "e5fa279d",
   "metadata": {},
   "outputs": [
    {
     "data": {
      "text/plain": [
       "array([5, 4, 3, 2, 8, 6, 0, 1, 7], dtype=int64)"
      ]
     },
     "execution_count": 52,
     "metadata": {},
     "output_type": "execute_result"
    }
   ],
   "source": [
    "df['No. of Family members'].unique()"
   ]
  },
  {
   "cell_type": "code",
   "execution_count": 53,
   "id": "4115b43a",
   "metadata": {},
   "outputs": [
    {
     "data": {
      "text/plain": [
       "array(['Nabha', 'Pune', 'Kashipur ', 'Satara', 'Noida', 'Delhi', 'Mumbai',\n",
       "       'pune', 'solapur', 'Haldwani ', 'Nellore ', 'Pune ', 'Haldwani',\n",
       "       'Banglore ', 'Faridabad ', 'Nagpur', 'Chandrapur ', 'Chennai',\n",
       "       'Gurugram ', 'Nashik', 'Bengaluru', 'Mumbai ', 'Hakdwani',\n",
       "       'Patiyala', 'pUNE', 'Ahmedabad', 'Karnal', 'Rewari', 'New Delhi',\n",
       "       'Serampore', 'Jhansi', 'New Delhi ', 'Jalandhar', 'Delhi ',\n",
       "       'nashik'], dtype=object)"
      ]
     },
     "execution_count": 53,
     "metadata": {},
     "output_type": "execute_result"
    }
   ],
   "source": [
    "df['City'].unique()"
   ]
  },
  {
   "cell_type": "code",
   "execution_count": 54,
   "id": "61d95d15",
   "metadata": {},
   "outputs": [
    {
     "data": {
      "text/plain": [
       "array(['<5 lakhs', '<15 lakhs', '<25 lakhs', '700000', '>25 lakhs',\n",
       "       '2000000', '1200000', '1500000'], dtype=object)"
      ]
     },
     "execution_count": 54,
     "metadata": {},
     "output_type": "execute_result"
    }
   ],
   "source": [
    "df['How much money could you spend on an Electronic vehicle?'].unique()"
   ]
  },
  {
   "cell_type": "code",
   "execution_count": 55,
   "id": "96088566",
   "metadata": {},
   "outputs": [],
   "source": [
    "df.drop('Unnamed: 0', axis=1, inplace = True)"
   ]
  },
  {
   "cell_type": "code",
   "execution_count": 56,
   "id": "11ed45c6",
   "metadata": {},
   "outputs": [
    {
     "data": {
      "text/plain": [
       "<matplotlib.collections.PathCollection at 0x24547805640>"
      ]
     },
     "execution_count": 56,
     "metadata": {},
     "output_type": "execute_result"
    },
    {
     "data": {
      "image/png": "[encoded data removed]",
      "text/plain": [
       "<Figure size 432x288 with 1 Axes>"
      ]
     },
     "metadata": {
      "needs_background": "light"
     },
     "output_type": "display_data"
    }
   ],
   "source": [
    "plt.xlabel('Age')\n",
    "plt.ylabel('Annual Income')\n",
    "plt.scatter(df['Age'],df['Annual Income'])"
   ]
  },
  {
   "cell_type": "code",
   "execution_count": 57,
   "id": "9a5ca9c1",
   "metadata": {},
   "outputs": [
    {
     "data": {
      "text/plain": [
       "<AxesSubplot:xlabel='Age', ylabel='count'>"
      ]
     },
     "execution_count": 57,
     "metadata": {},
     "output_type": "execute_result"
    },
    {
     "data": {
      "image/png": "[encoded data removed]",
      "text/plain": [
       "<Figure size 1440x432 with 1 Axes>"
      ]
     },
     "metadata": {
      "needs_background": "light"
     },
     "output_type": "display_data"
    }
   ],
   "source": [
    "plt.figure(figsize=(20,6))\n",
    "sns.countplot(x=\"Age\", data=df, hue=\"Education\")"
   ]
  },
  {
   "cell_type": "code",
   "execution_count": 58,
   "id": "b057325d",
   "metadata": {},
   "outputs": [
    {
     "data": {
      "text/plain": [
       "<AxesSubplot:xlabel='Which brand of vehicle do you currently own?', ylabel='count'>"
      ]
     },
     "execution_count": 58,
     "metadata": {},
     "output_type": "execute_result"
    },
    {
     "data": {
      "image/png": "[encoded data removed]",
      "text/plain": [
       "<Figure size 1440x432 with 1 Axes>"
      ]
     },
     "metadata": {
      "needs_background": "light"
     },
     "output_type": "display_data"
    }
   ],
   "source": [
    "plt.figure(figsize=(20,6))\n",
    "sns.countplot(x=\"Which brand of vehicle do you currently own?\", data=df, hue=\"Education\")"
   ]
  },
  {
   "cell_type": "code",
   "execution_count": 59,
   "id": "0ea1074e",
   "metadata": {},
   "outputs": [
    {
     "data": {
      "text/plain": [
       "<seaborn.axisgrid.PairGrid at 0x24547845130>"
      ]
     },
     "execution_count": 59,
     "metadata": {},
     "output_type": "execute_result"
    },
    {
     "data": {
      "image/png": "[encoded data removed]",
      "text/plain": [
       "<Figure size 720x720 with 20 Axes>"
      ]
     },
     "metadata": {
      "needs_background": "light"
     },
     "output_type": "display_data"
    }
   ],
   "source": [
    "sns.pairplot(df)"
   ]
  },
  {
   "cell_type": "code",
   "execution_count": 60,
   "id": "a8a67a68",
   "metadata": {},
   "outputs": [
    {
     "data": {
      "text/plain": [
       "<AxesSubplot:>"
      ]
     },
     "execution_count": 60,
     "metadata": {},
     "output_type": "execute_result"
    },
    {
     "data": {
      "image/png": "[encoded data removed]",
      "text/plain": [
       "<Figure size 1080x720 with 2 Axes>"
      ]
     },
     "metadata": {
      "needs_background": "light"
     },
     "output_type": "display_data"
    }
   ],
   "source": [
    "# Heatmap \n",
    "corr=df.corr()\n",
    "plt.figure(figsize=(15,10))\n",
    "sns.heatmap(corr, cmap=\"Blues\", annot=True)"
   ]
  },
  {
   "cell_type": "code",
   "execution_count": 61,
   "id": "70f6a4b7",
   "metadata": {},
   "outputs": [],
   "source": [
    "from sklearn.preprocessing import LabelEncoder\n",
    "def label_encode(data,column):\n",
    "        label_encoder=LabelEncoder()\n",
    "        return label_encoder.fit_transform(data[column].astype(str))"
   ]
  },
  {
   "cell_type": "code",
   "execution_count": 62,
   "id": "5f2718d4",
   "metadata": {},
   "outputs": [],
   "source": [
    "df['City']= label_encode(df,'City')\n",
    "df['Profession']= label_encode(df,'Profession')\n",
    "df['Marital Status']= label_encode(df,'Marital Status')\n",
    "df['Education']= label_encode(df,'Education')\n",
    "df['Would you prefer replacing all your vehicles to Electronic vehicles?']= label_encode(df,'Would you prefer replacing all your vehicles to Electronic vehicles?')\n",
    "df['If Yes/Maybe what type of  EV would you prefer?']= label_encode(df,'If Yes/Maybe what type of  EV would you prefer?')\n",
    "df['Do you think Electronic Vehicles are economical?']= label_encode(df,'Do you think Electronic Vehicles are economical?')\n",
    "df['Which brand of vehicle do you currently own?']= label_encode(df,'Which brand of vehicle do you currently own?')\n",
    "df['Do you think Electronic vehicles will replace fuel cars in India?']= label_encode(df,'Do you think Electronic vehicles will replace fuel cars in India?')\n",
    "df['How much money could you spend on an Electronic vehicle?']= label_encode(df,'How much money could you spend on an Electronic vehicle?')"
   ]
  },
  {
   "cell_type": "code",
   "execution_count": 63,
   "id": "198a36eb",
   "metadata": {},
   "outputs": [
    {
     "data": {
      "text/html": [
       "<div>\n",
       "<style scoped>\n",
       "    .dataframe tbody tr th:only-of-type {\n",
       "        vertical-align: middle;\n",
       "    }\n",
       "\n",
       "    .dataframe tbody tr th {\n",
       "        vertical-align: top;\n",
       "    }\n",
       "\n",
       "    .dataframe thead th {\n",
       "        text-align: right;\n",
       "    }\n",
       "</style>\n",
       "<table border=\"1\" class=\"dataframe\">\n",
       "  <thead>\n",
       "    <tr style=\"text-align: right;\">\n",
       "      <th></th>\n",
       "      <th>Age</th>\n",
       "      <th>City</th>\n",
       "      <th>Profession</th>\n",
       "      <th>Marital Status</th>\n",
       "      <th>Education</th>\n",
       "      <th>No. of Family members</th>\n",
       "      <th>Annual Income</th>\n",
       "      <th>Would you prefer replacing all your vehicles to Electronic vehicles?</th>\n",
       "      <th>If Yes/Maybe what type of  EV would you prefer?</th>\n",
       "      <th>Do you think Electronic Vehicles are economical?</th>\n",
       "      <th>Which brand of vehicle do you currently own?</th>\n",
       "      <th>How much money could you spend on an Electronic vehicle?</th>\n",
       "      <th>Preference for wheels in EV</th>\n",
       "      <th>Do you think Electronic vehicles will replace fuel cars in India?</th>\n",
       "    </tr>\n",
       "  </thead>\n",
       "  <tbody>\n",
       "    <tr>\n",
       "      <th>0</th>\n",
       "      <td>30</td>\n",
       "      <td>18</td>\n",
       "      <td>1</td>\n",
       "      <td>1</td>\n",
       "      <td>0</td>\n",
       "      <td>5</td>\n",
       "      <td>1193875.647</td>\n",
       "      <td>0</td>\n",
       "      <td>3</td>\n",
       "      <td>2</td>\n",
       "      <td>4</td>\n",
       "      <td>6</td>\n",
       "      <td>2</td>\n",
       "      <td>0</td>\n",
       "    </tr>\n",
       "    <tr>\n",
       "      <th>1</th>\n",
       "      <td>27</td>\n",
       "      <td>26</td>\n",
       "      <td>1</td>\n",
       "      <td>1</td>\n",
       "      <td>0</td>\n",
       "      <td>4</td>\n",
       "      <td>1844540.398</td>\n",
       "      <td>2</td>\n",
       "      <td>3</td>\n",
       "      <td>2</td>\n",
       "      <td>3</td>\n",
       "      <td>4</td>\n",
       "      <td>4</td>\n",
       "      <td>2</td>\n",
       "    </tr>\n",
       "    <tr>\n",
       "      <th>2</th>\n",
       "      <td>32</td>\n",
       "      <td>15</td>\n",
       "      <td>1</td>\n",
       "      <td>1</td>\n",
       "      <td>0</td>\n",
       "      <td>4</td>\n",
       "      <td>2948150.113</td>\n",
       "      <td>2</td>\n",
       "      <td>1</td>\n",
       "      <td>2</td>\n",
       "      <td>5</td>\n",
       "      <td>4</td>\n",
       "      <td>4</td>\n",
       "      <td>2</td>\n",
       "    </tr>\n",
       "    <tr>\n",
       "      <th>3</th>\n",
       "      <td>55</td>\n",
       "      <td>26</td>\n",
       "      <td>0</td>\n",
       "      <td>1</td>\n",
       "      <td>0</td>\n",
       "      <td>3</td>\n",
       "      <td>2832379.739</td>\n",
       "      <td>0</td>\n",
       "      <td>1</td>\n",
       "      <td>1</td>\n",
       "      <td>4</td>\n",
       "      <td>6</td>\n",
       "      <td>4</td>\n",
       "      <td>1</td>\n",
       "    </tr>\n",
       "    <tr>\n",
       "      <th>4</th>\n",
       "      <td>26</td>\n",
       "      <td>29</td>\n",
       "      <td>1</td>\n",
       "      <td>1</td>\n",
       "      <td>0</td>\n",
       "      <td>4</td>\n",
       "      <td>2638750.576</td>\n",
       "      <td>2</td>\n",
       "      <td>4</td>\n",
       "      <td>2</td>\n",
       "      <td>10</td>\n",
       "      <td>4</td>\n",
       "      <td>4</td>\n",
       "      <td>2</td>\n",
       "    </tr>\n",
       "  </tbody>\n",
       "</table>\n",
       "</div>"
      ],
      "text/plain": [
       "   Age  City  Profession  Marital Status  Education  No. of Family members  \\\n",
       "0   30    18           1               1          0                      5   \n",
       "1   27    26           1               1          0                      4   \n",
       "2   32    15           1               1          0                      4   \n",
       "3   55    26           0               1          0                      3   \n",
       "4   26    29           1               1          0                      4   \n",
       "\n",
       "   Annual Income  \\\n",
       "0    1193875.647   \n",
       "1    1844540.398   \n",
       "2    2948150.113   \n",
       "3    2832379.739   \n",
       "4    2638750.576   \n",
       "\n",
       "   Would you prefer replacing all your vehicles to Electronic vehicles?  \\\n",
       "0                                                  0                      \n",
       "1                                                  2                      \n",
       "2                                                  2                      \n",
       "3                                                  0                      \n",
       "4                                                  2                      \n",
       "\n",
       "   If Yes/Maybe what type of  EV would you prefer?  \\\n",
       "0                                                3   \n",
       "1                                                3   \n",
       "2                                                1   \n",
       "3                                                1   \n",
       "4                                                4   \n",
       "\n",
       "   Do you think Electronic Vehicles are economical?  \\\n",
       "0                                                 2   \n",
       "1                                                 2   \n",
       "2                                                 2   \n",
       "3                                                 1   \n",
       "4                                                 2   \n",
       "\n",
       "   Which brand of vehicle do you currently own?  \\\n",
       "0                                             4   \n",
       "1                                             3   \n",
       "2                                             5   \n",
       "3                                             4   \n",
       "4                                            10   \n",
       "\n",
       "   How much money could you spend on an Electronic vehicle?  \\\n",
       "0                                                  6          \n",
       "1                                                  4          \n",
       "2                                                  4          \n",
       "3                                                  6          \n",
       "4                                                  4          \n",
       "\n",
       "   Preference for wheels in EV  \\\n",
       "0                            2   \n",
       "1                            4   \n",
       "2                            4   \n",
       "3                            4   \n",
       "4                            4   \n",
       "\n",
       "   Do you think Electronic vehicles will replace fuel cars in India?  \n",
       "0                                                  0                  \n",
       "1                                                  2                  \n",
       "2                                                  2                  \n",
       "3                                                  1                  \n",
       "4                                                  2                  "
      ]
     },
     "execution_count": 63,
     "metadata": {},
     "output_type": "execute_result"
    }
   ],
   "source": [
    "df.head()"
   ]
  },
  {
   "cell_type": "code",
   "execution_count": 64,
   "id": "53974195",
   "metadata": {},
   "outputs": [],
   "source": [
    "from statsmodels.stats.outliers_influence import variance_inflation_factor"
   ]
  },
  {
   "cell_type": "code",
   "execution_count": null,
   "id": "aa344668",
   "metadata": {},
   "outputs": [],
   "source": []
  },
  {
   "cell_type": "code",
   "execution_count": 65,
   "id": "8e6d9908",
   "metadata": {},
   "outputs": [],
   "source": [
    "y = df['City']\n",
    "X = df.drop(['City'],axis=1,inplace = True)"
   ]
  },
  {
   "cell_type": "code",
   "execution_count": 66,
   "id": "25e1190b",
   "metadata": {},
   "outputs": [],
   "source": [
    "def calc_vif(X):\n",
    "\n",
    "    # Calculating VIF\n",
    "    vif = pd.DataFrame()\n",
    "    vif[\"variables\"] = X.columns\n",
    "    vif[\"VIF\"] = [variance_inflation_factor(X.values, i) for i in range(X.shape[1])]"
   ]
  },
  {
   "cell_type": "code",
   "execution_count": 67,
   "id": "3eeed7c5",
   "metadata": {},
   "outputs": [],
   "source": [
    "X = df.iloc[:,:-1]"
   ]
  },
  {
   "cell_type": "code",
   "execution_count": 68,
   "id": "d92002cf",
   "metadata": {},
   "outputs": [],
   "source": [
    "calc_vif(X)"
   ]
  },
  {
   "cell_type": "code",
   "execution_count": 71,
   "id": "b6340ce9",
   "metadata": {},
   "outputs": [
    {
     "data": {
      "text/html": [
       "<div>\n",
       "<style scoped>\n",
       "    .dataframe tbody tr th:only-of-type {\n",
       "        vertical-align: middle;\n",
       "    }\n",
       "\n",
       "    .dataframe tbody tr th {\n",
       "        vertical-align: top;\n",
       "    }\n",
       "\n",
       "    .dataframe thead th {\n",
       "        text-align: right;\n",
       "    }\n",
       "</style>\n",
       "<table border=\"1\" class=\"dataframe\">\n",
       "  <thead>\n",
       "    <tr style=\"text-align: right;\">\n",
       "      <th></th>\n",
       "      <th>Age</th>\n",
       "      <th>Profession</th>\n",
       "      <th>Marital Status</th>\n",
       "      <th>Education</th>\n",
       "      <th>No. of Family members</th>\n",
       "      <th>Annual Income</th>\n",
       "      <th>Would you prefer replacing all your vehicles to Electronic vehicles?</th>\n",
       "      <th>If Yes/Maybe what type of  EV would you prefer?</th>\n",
       "      <th>Do you think Electronic Vehicles are economical?</th>\n",
       "      <th>Which brand of vehicle do you currently own?</th>\n",
       "      <th>How much money could you spend on an Electronic vehicle?</th>\n",
       "      <th>Preference for wheels in EV</th>\n",
       "      <th>Do you think Electronic vehicles will replace fuel cars in India?</th>\n",
       "    </tr>\n",
       "  </thead>\n",
       "  <tbody>\n",
       "    <tr>\n",
       "      <th>0</th>\n",
       "      <td>30</td>\n",
       "      <td>1</td>\n",
       "      <td>1</td>\n",
       "      <td>0</td>\n",
       "      <td>5</td>\n",
       "      <td>1193875.647</td>\n",
       "      <td>0</td>\n",
       "      <td>3</td>\n",
       "      <td>2</td>\n",
       "      <td>4</td>\n",
       "      <td>6</td>\n",
       "      <td>2</td>\n",
       "      <td>0</td>\n",
       "    </tr>\n",
       "    <tr>\n",
       "      <th>1</th>\n",
       "      <td>27</td>\n",
       "      <td>1</td>\n",
       "      <td>1</td>\n",
       "      <td>0</td>\n",
       "      <td>4</td>\n",
       "      <td>1844540.398</td>\n",
       "      <td>2</td>\n",
       "      <td>3</td>\n",
       "      <td>2</td>\n",
       "      <td>3</td>\n",
       "      <td>4</td>\n",
       "      <td>4</td>\n",
       "      <td>2</td>\n",
       "    </tr>\n",
       "    <tr>\n",
       "      <th>2</th>\n",
       "      <td>32</td>\n",
       "      <td>1</td>\n",
       "      <td>1</td>\n",
       "      <td>0</td>\n",
       "      <td>4</td>\n",
       "      <td>2948150.113</td>\n",
       "      <td>2</td>\n",
       "      <td>1</td>\n",
       "      <td>2</td>\n",
       "      <td>5</td>\n",
       "      <td>4</td>\n",
       "      <td>4</td>\n",
       "      <td>2</td>\n",
       "    </tr>\n",
       "    <tr>\n",
       "      <th>3</th>\n",
       "      <td>55</td>\n",
       "      <td>0</td>\n",
       "      <td>1</td>\n",
       "      <td>0</td>\n",
       "      <td>3</td>\n",
       "      <td>2832379.739</td>\n",
       "      <td>0</td>\n",
       "      <td>1</td>\n",
       "      <td>1</td>\n",
       "      <td>4</td>\n",
       "      <td>6</td>\n",
       "      <td>4</td>\n",
       "      <td>1</td>\n",
       "    </tr>\n",
       "    <tr>\n",
       "      <th>4</th>\n",
       "      <td>26</td>\n",
       "      <td>1</td>\n",
       "      <td>1</td>\n",
       "      <td>0</td>\n",
       "      <td>4</td>\n",
       "      <td>2638750.576</td>\n",
       "      <td>2</td>\n",
       "      <td>4</td>\n",
       "      <td>2</td>\n",
       "      <td>10</td>\n",
       "      <td>4</td>\n",
       "      <td>4</td>\n",
       "      <td>2</td>\n",
       "    </tr>\n",
       "  </tbody>\n",
       "</table>\n",
       "</div>"
      ],
      "text/plain": [
       "   Age  Profession  Marital Status  Education  No. of Family members  \\\n",
       "0   30           1               1          0                      5   \n",
       "1   27           1               1          0                      4   \n",
       "2   32           1               1          0                      4   \n",
       "3   55           0               1          0                      3   \n",
       "4   26           1               1          0                      4   \n",
       "\n",
       "   Annual Income  \\\n",
       "0    1193875.647   \n",
       "1    1844540.398   \n",
       "2    2948150.113   \n",
       "3    2832379.739   \n",
       "4    2638750.576   \n",
       "\n",
       "   Would you prefer replacing all your vehicles to Electronic vehicles?  \\\n",
       "0                                                  0                      \n",
       "1                                                  2                      \n",
       "2                                                  2                      \n",
       "3                                                  0                      \n",
       "4                                                  2                      \n",
       "\n",
       "   If Yes/Maybe what type of  EV would you prefer?  \\\n",
       "0                                                3   \n",
       "1                                                3   \n",
       "2                                                1   \n",
       "3                                                1   \n",
       "4                                                4   \n",
       "\n",
       "   Do you think Electronic Vehicles are economical?  \\\n",
       "0                                                 2   \n",
       "1                                                 2   \n",
       "2                                                 2   \n",
       "3                                                 1   \n",
       "4                                                 2   \n",
       "\n",
       "   Which brand of vehicle do you currently own?  \\\n",
       "0                                             4   \n",
       "1                                             3   \n",
       "2                                             5   \n",
       "3                                             4   \n",
       "4                                            10   \n",
       "\n",
       "   How much money could you spend on an Electronic vehicle?  \\\n",
       "0                                                  6          \n",
       "1                                                  4          \n",
       "2                                                  4          \n",
       "3                                                  6          \n",
       "4                                                  4          \n",
       "\n",
       "   Preference for wheels in EV  \\\n",
       "0                            2   \n",
       "1                            4   \n",
       "2                            4   \n",
       "3                            4   \n",
       "4                            4   \n",
       "\n",
       "   Do you think Electronic vehicles will replace fuel cars in India?  \n",
       "0                                                  0                  \n",
       "1                                                  2                  \n",
       "2                                                  2                  \n",
       "3                                                  1                  \n",
       "4                                                  2                  "
      ]
     },
     "execution_count": 71,
     "metadata": {},
     "output_type": "execute_result"
    }
   ],
   "source": [
    "df.head()"
   ]
  },
  {
   "cell_type": "code",
   "execution_count": 69,
   "id": "44f4d7dd",
   "metadata": {},
   "outputs": [
    {
     "name": "stderr",
     "output_type": "stream",
     "text": [
      "C:\\Users\\preet\\anaconda3\\lib\\site-packages\\sklearn\\cluster\\_kmeans.py:870: FutureWarning: The default value of `n_init` will change from 10 to 'auto' in 1.4. Set the value of `n_init` explicitly to suppress the warning\n",
      "  warnings.warn(\n",
      "C:\\Users\\preet\\anaconda3\\lib\\site-packages\\sklearn\\cluster\\_kmeans.py:1382: UserWarning: KMeans is known to have a memory leak on Windows with MKL, when there are less chunks than available threads. You can avoid it by setting the environment variable OMP_NUM_THREADS=4.\n",
      "  warnings.warn(\n",
      "C:\\Users\\preet\\anaconda3\\lib\\site-packages\\sklearn\\cluster\\_kmeans.py:870: FutureWarning: The default value of `n_init` will change from 10 to 'auto' in 1.4. Set the value of `n_init` explicitly to suppress the warning\n",
      "  warnings.warn(\n",
      "C:\\Users\\preet\\anaconda3\\lib\\site-packages\\sklearn\\cluster\\_kmeans.py:1382: UserWarning: KMeans is known to have a memory leak on Windows with MKL, when there are less chunks than available threads. You can avoid it by setting the environment variable OMP_NUM_THREADS=4.\n",
      "  warnings.warn(\n",
      "C:\\Users\\preet\\anaconda3\\lib\\site-packages\\sklearn\\cluster\\_kmeans.py:870: FutureWarning: The default value of `n_init` will change from 10 to 'auto' in 1.4. Set the value of `n_init` explicitly to suppress the warning\n",
      "  warnings.warn(\n",
      "C:\\Users\\preet\\anaconda3\\lib\\site-packages\\sklearn\\cluster\\_kmeans.py:1382: UserWarning: KMeans is known to have a memory leak on Windows with MKL, when there are less chunks than available threads. You can avoid it by setting the environment variable OMP_NUM_THREADS=4.\n",
      "  warnings.warn(\n",
      "C:\\Users\\preet\\anaconda3\\lib\\site-packages\\sklearn\\cluster\\_kmeans.py:870: FutureWarning: The default value of `n_init` will change from 10 to 'auto' in 1.4. Set the value of `n_init` explicitly to suppress the warning\n",
      "  warnings.warn(\n",
      "C:\\Users\\preet\\anaconda3\\lib\\site-packages\\sklearn\\cluster\\_kmeans.py:1382: UserWarning: KMeans is known to have a memory leak on Windows with MKL, when there are less chunks than available threads. You can avoid it by setting the environment variable OMP_NUM_THREADS=4.\n",
      "  warnings.warn(\n",
      "C:\\Users\\preet\\anaconda3\\lib\\site-packages\\sklearn\\cluster\\_kmeans.py:870: FutureWarning: The default value of `n_init` will change from 10 to 'auto' in 1.4. Set the value of `n_init` explicitly to suppress the warning\n",
      "  warnings.warn(\n",
      "C:\\Users\\preet\\anaconda3\\lib\\site-packages\\sklearn\\cluster\\_kmeans.py:1382: UserWarning: KMeans is known to have a memory leak on Windows with MKL, when there are less chunks than available threads. You can avoid it by setting the environment variable OMP_NUM_THREADS=4.\n",
      "  warnings.warn(\n",
      "C:\\Users\\preet\\anaconda3\\lib\\site-packages\\sklearn\\cluster\\_kmeans.py:870: FutureWarning: The default value of `n_init` will change from 10 to 'auto' in 1.4. Set the value of `n_init` explicitly to suppress the warning\n",
      "  warnings.warn(\n",
      "C:\\Users\\preet\\anaconda3\\lib\\site-packages\\sklearn\\cluster\\_kmeans.py:1382: UserWarning: KMeans is known to have a memory leak on Windows with MKL, when there are less chunks than available threads. You can avoid it by setting the environment variable OMP_NUM_THREADS=4.\n",
      "  warnings.warn(\n",
      "C:\\Users\\preet\\anaconda3\\lib\\site-packages\\sklearn\\cluster\\_kmeans.py:870: FutureWarning: The default value of `n_init` will change from 10 to 'auto' in 1.4. Set the value of `n_init` explicitly to suppress the warning\n",
      "  warnings.warn(\n",
      "C:\\Users\\preet\\anaconda3\\lib\\site-packages\\sklearn\\cluster\\_kmeans.py:1382: UserWarning: KMeans is known to have a memory leak on Windows with MKL, when there are less chunks than available threads. You can avoid it by setting the environment variable OMP_NUM_THREADS=4.\n",
      "  warnings.warn(\n",
      "C:\\Users\\preet\\anaconda3\\lib\\site-packages\\sklearn\\cluster\\_kmeans.py:870: FutureWarning: The default value of `n_init` will change from 10 to 'auto' in 1.4. Set the value of `n_init` explicitly to suppress the warning\n",
      "  warnings.warn(\n",
      "C:\\Users\\preet\\anaconda3\\lib\\site-packages\\sklearn\\cluster\\_kmeans.py:1382: UserWarning: KMeans is known to have a memory leak on Windows with MKL, when there are less chunks than available threads. You can avoid it by setting the environment variable OMP_NUM_THREADS=4.\n",
      "  warnings.warn(\n",
      "C:\\Users\\preet\\anaconda3\\lib\\site-packages\\sklearn\\cluster\\_kmeans.py:870: FutureWarning: The default value of `n_init` will change from 10 to 'auto' in 1.4. Set the value of `n_init` explicitly to suppress the warning\n",
      "  warnings.warn(\n",
      "C:\\Users\\preet\\anaconda3\\lib\\site-packages\\sklearn\\cluster\\_kmeans.py:1382: UserWarning: KMeans is known to have a memory leak on Windows with MKL, when there are less chunks than available threads. You can avoid it by setting the environment variable OMP_NUM_THREADS=4.\n",
      "  warnings.warn(\n",
      "C:\\Users\\preet\\anaconda3\\lib\\site-packages\\sklearn\\cluster\\_kmeans.py:870: FutureWarning: The default value of `n_init` will change from 10 to 'auto' in 1.4. Set the value of `n_init` explicitly to suppress the warning\n",
      "  warnings.warn(\n",
      "C:\\Users\\preet\\anaconda3\\lib\\site-packages\\sklearn\\cluster\\_kmeans.py:1382: UserWarning: KMeans is known to have a memory leak on Windows with MKL, when there are less chunks than available threads. You can avoid it by setting the environment variable OMP_NUM_THREADS=4.\n",
      "  warnings.warn(\n"
     ]
    },
    {
     "data": {
      "image/png": "[encoded data removed]",
      "text/plain": [
       "<Figure size 864x432 with 1 Axes>"
      ]
     },
     "metadata": {
      "needs_background": "light"
     },
     "output_type": "display_data"
    }
   ],
   "source": [
    "from sklearn.cluster import KMeans\n",
    "wcss = []\n",
    "for k in range(1,11):\n",
    "    kmeans = KMeans(n_clusters=k, init=\"k-means++\",random_state=28)\n",
    "    kmeans.fit(X)\n",
    "    wcss.append(kmeans.inertia_)\n",
    "plt.figure(figsize=(12,6))    \n",
    "plt.grid()\n",
    "plt.plot(range(1,11),wcss, linewidth=2, color=\"blue\", marker =\"8\")\n",
    "plt.xlabel(\"K Value\")\n",
    "plt.xticks(np.arange(1,11,1))\n",
    "plt.ylabel(\"WCSS\")\n",
    "plt.show()"
   ]
  },
  {
   "cell_type": "code",
   "execution_count": 76,
   "id": "2b79d30c",
   "metadata": {},
   "outputs": [
    {
     "name": "stderr",
     "output_type": "stream",
     "text": [
      "C:\\Users\\preet\\anaconda3\\lib\\site-packages\\sklearn\\cluster\\_kmeans.py:870: FutureWarning: The default value of `n_init` will change from 10 to 'auto' in 1.4. Set the value of `n_init` explicitly to suppress the warning\n",
      "  warnings.warn(\n",
      "C:\\Users\\preet\\anaconda3\\lib\\site-packages\\sklearn\\cluster\\_kmeans.py:1382: UserWarning: KMeans is known to have a memory leak on Windows with MKL, when there are less chunks than available threads. You can avoid it by setting the environment variable OMP_NUM_THREADS=4.\n",
      "  warnings.warn(\n"
     ]
    }
   ],
   "source": [
    "km = KMeans(n_clusters=4, random_state=28)\n",
    "clusters = km.fit_predict(df)\n",
    "df[\"Cluster\"] = clusters\n",
    "\n",
    "df_Og[\"Cluster\"] = clusters"
   ]
  },
  {
   "cell_type": "code",
   "execution_count": 77,
   "id": "3e87039b",
   "metadata": {},
   "outputs": [
    {
     "data": {
      "text/html": [
       "<div>\n",
       "<style scoped>\n",
       "    .dataframe tbody tr th:only-of-type {\n",
       "        vertical-align: middle;\n",
       "    }\n",
       "\n",
       "    .dataframe tbody tr th {\n",
       "        vertical-align: top;\n",
       "    }\n",
       "\n",
       "    .dataframe thead th {\n",
       "        text-align: right;\n",
       "    }\n",
       "</style>\n",
       "<table border=\"1\" class=\"dataframe\">\n",
       "  <thead>\n",
       "    <tr style=\"text-align: right;\">\n",
       "      <th></th>\n",
       "      <th>Unnamed: 0</th>\n",
       "      <th>Age</th>\n",
       "      <th>City</th>\n",
       "      <th>Profession</th>\n",
       "      <th>Marital Status</th>\n",
       "      <th>Education</th>\n",
       "      <th>No. of Family members</th>\n",
       "      <th>Annual Income</th>\n",
       "      <th>Would you prefer replacing all your vehicles to Electronic vehicles?</th>\n",
       "      <th>If Yes/Maybe what type of  EV would you prefer?</th>\n",
       "      <th>Do you think Electronic Vehicles are economical?</th>\n",
       "      <th>Which brand of vehicle do you currently own?</th>\n",
       "      <th>How much money could you spend on an Electronic vehicle?</th>\n",
       "      <th>Preference for wheels in EV</th>\n",
       "      <th>Do you think Electronic vehicles will replace fuel cars in India?</th>\n",
       "      <th>Cluster</th>\n",
       "    </tr>\n",
       "  </thead>\n",
       "  <tbody>\n",
       "    <tr>\n",
       "      <th>0</th>\n",
       "      <td>0</td>\n",
       "      <td>30</td>\n",
       "      <td>Nabha</td>\n",
       "      <td>None</td>\n",
       "      <td>Single</td>\n",
       "      <td>Graduate</td>\n",
       "      <td>5</td>\n",
       "      <td>1193875.647</td>\n",
       "      <td>Maybe</td>\n",
       "      <td>SUV</td>\n",
       "      <td>Yes</td>\n",
       "      <td>Hyundai</td>\n",
       "      <td>&lt;5 lakhs</td>\n",
       "      <td>2</td>\n",
       "      <td>I don't think so</td>\n",
       "      <td>1</td>\n",
       "    </tr>\n",
       "    <tr>\n",
       "      <th>1</th>\n",
       "      <td>1</td>\n",
       "      <td>27</td>\n",
       "      <td>Pune</td>\n",
       "      <td>None</td>\n",
       "      <td>Single</td>\n",
       "      <td>Graduate</td>\n",
       "      <td>4</td>\n",
       "      <td>1844540.398</td>\n",
       "      <td>Yes</td>\n",
       "      <td>SUV</td>\n",
       "      <td>Yes</td>\n",
       "      <td>Honda</td>\n",
       "      <td>&lt;15 lakhs</td>\n",
       "      <td>4</td>\n",
       "      <td>Yes, in &lt;20years</td>\n",
       "      <td>3</td>\n",
       "    </tr>\n",
       "    <tr>\n",
       "      <th>2</th>\n",
       "      <td>2</td>\n",
       "      <td>32</td>\n",
       "      <td>Kashipur</td>\n",
       "      <td>None</td>\n",
       "      <td>Single</td>\n",
       "      <td>Graduate</td>\n",
       "      <td>4</td>\n",
       "      <td>2948150.113</td>\n",
       "      <td>Yes</td>\n",
       "      <td>Hatchback</td>\n",
       "      <td>Yes</td>\n",
       "      <td>KIA</td>\n",
       "      <td>&lt;15 lakhs</td>\n",
       "      <td>4</td>\n",
       "      <td>Yes, in &lt;20years</td>\n",
       "      <td>0</td>\n",
       "    </tr>\n",
       "    <tr>\n",
       "      <th>3</th>\n",
       "      <td>3</td>\n",
       "      <td>55</td>\n",
       "      <td>Pune</td>\n",
       "      <td>Business</td>\n",
       "      <td>Single</td>\n",
       "      <td>Graduate</td>\n",
       "      <td>3</td>\n",
       "      <td>2832379.739</td>\n",
       "      <td>Maybe</td>\n",
       "      <td>Hatchback</td>\n",
       "      <td>No</td>\n",
       "      <td>Hyundai</td>\n",
       "      <td>&lt;5 lakhs</td>\n",
       "      <td>4</td>\n",
       "      <td>Yes, in &lt;10 years</td>\n",
       "      <td>0</td>\n",
       "    </tr>\n",
       "    <tr>\n",
       "      <th>4</th>\n",
       "      <td>4</td>\n",
       "      <td>26</td>\n",
       "      <td>Satara</td>\n",
       "      <td>None</td>\n",
       "      <td>Single</td>\n",
       "      <td>Graduate</td>\n",
       "      <td>4</td>\n",
       "      <td>2638750.576</td>\n",
       "      <td>Yes</td>\n",
       "      <td>Sedan</td>\n",
       "      <td>Yes</td>\n",
       "      <td>McLaren</td>\n",
       "      <td>&lt;15 lakhs</td>\n",
       "      <td>4</td>\n",
       "      <td>Yes, in &lt;20years</td>\n",
       "      <td>0</td>\n",
       "    </tr>\n",
       "    <tr>\n",
       "      <th>...</th>\n",
       "      <td>...</td>\n",
       "      <td>...</td>\n",
       "      <td>...</td>\n",
       "      <td>...</td>\n",
       "      <td>...</td>\n",
       "      <td>...</td>\n",
       "      <td>...</td>\n",
       "      <td>...</td>\n",
       "      <td>...</td>\n",
       "      <td>...</td>\n",
       "      <td>...</td>\n",
       "      <td>...</td>\n",
       "      <td>...</td>\n",
       "      <td>...</td>\n",
       "      <td>...</td>\n",
       "      <td>...</td>\n",
       "    </tr>\n",
       "    <tr>\n",
       "      <th>995</th>\n",
       "      <td>995</td>\n",
       "      <td>31</td>\n",
       "      <td>Pune</td>\n",
       "      <td>None</td>\n",
       "      <td>Married</td>\n",
       "      <td>Graduate</td>\n",
       "      <td>7</td>\n",
       "      <td>2110722.120</td>\n",
       "      <td>Yes</td>\n",
       "      <td>SUV</td>\n",
       "      <td>Yes</td>\n",
       "      <td>KIA</td>\n",
       "      <td>&lt;25 lakhs</td>\n",
       "      <td>4</td>\n",
       "      <td>Yes, in &lt;10 years</td>\n",
       "      <td>3</td>\n",
       "    </tr>\n",
       "    <tr>\n",
       "      <th>996</th>\n",
       "      <td>996</td>\n",
       "      <td>29</td>\n",
       "      <td>Pune</td>\n",
       "      <td>None</td>\n",
       "      <td>Married</td>\n",
       "      <td>Post Graduate</td>\n",
       "      <td>4</td>\n",
       "      <td>1616287.706</td>\n",
       "      <td>No</td>\n",
       "      <td>SUV</td>\n",
       "      <td>Yes</td>\n",
       "      <td>KIA</td>\n",
       "      <td>&lt;5 lakhs</td>\n",
       "      <td>4</td>\n",
       "      <td>Yes, in &lt;20years</td>\n",
       "      <td>3</td>\n",
       "    </tr>\n",
       "    <tr>\n",
       "      <th>997</th>\n",
       "      <td>997</td>\n",
       "      <td>30</td>\n",
       "      <td>Mumbai</td>\n",
       "      <td>Business</td>\n",
       "      <td>Single</td>\n",
       "      <td>Graduate</td>\n",
       "      <td>4</td>\n",
       "      <td>2202829.029</td>\n",
       "      <td>Yes</td>\n",
       "      <td>SUV</td>\n",
       "      <td>Yes</td>\n",
       "      <td>Honda</td>\n",
       "      <td>&lt;15 lakhs</td>\n",
       "      <td>4</td>\n",
       "      <td>Yes, in &lt;20years</td>\n",
       "      <td>3</td>\n",
       "    </tr>\n",
       "    <tr>\n",
       "      <th>998</th>\n",
       "      <td>998</td>\n",
       "      <td>24</td>\n",
       "      <td>Ahmedabad</td>\n",
       "      <td>None</td>\n",
       "      <td>Married</td>\n",
       "      <td>Graduate</td>\n",
       "      <td>4</td>\n",
       "      <td>1764744.068</td>\n",
       "      <td>Yes</td>\n",
       "      <td>SUV</td>\n",
       "      <td>Yes</td>\n",
       "      <td>Maruti</td>\n",
       "      <td>&lt;15 lakhs</td>\n",
       "      <td>4</td>\n",
       "      <td>Yes, in &lt;20years</td>\n",
       "      <td>3</td>\n",
       "    </tr>\n",
       "    <tr>\n",
       "      <th>999</th>\n",
       "      <td>999</td>\n",
       "      <td>30</td>\n",
       "      <td>Pune</td>\n",
       "      <td>Business</td>\n",
       "      <td>Single</td>\n",
       "      <td>Graduate</td>\n",
       "      <td>4</td>\n",
       "      <td>2486664.468</td>\n",
       "      <td>No</td>\n",
       "      <td>Liftback</td>\n",
       "      <td>Yes</td>\n",
       "      <td>Maruti</td>\n",
       "      <td>&lt;5 lakhs</td>\n",
       "      <td>4</td>\n",
       "      <td>Yes, in &lt;10 years</td>\n",
       "      <td>0</td>\n",
       "    </tr>\n",
       "  </tbody>\n",
       "</table>\n",
       "<p>1000 rows × 16 columns</p>\n",
       "</div>"
      ],
      "text/plain": [
       "     Unnamed: 0  Age       City Profession Marital Status      Education  \\\n",
       "0             0   30      Nabha       None         Single       Graduate   \n",
       "1             1   27       Pune       None         Single       Graduate   \n",
       "2             2   32  Kashipur        None         Single       Graduate   \n",
       "3             3   55       Pune   Business         Single       Graduate   \n",
       "4             4   26     Satara       None         Single       Graduate   \n",
       "..          ...  ...        ...        ...            ...            ...   \n",
       "995         995   31       Pune       None        Married       Graduate   \n",
       "996         996   29       Pune       None        Married  Post Graduate   \n",
       "997         997   30     Mumbai   Business         Single       Graduate   \n",
       "998         998   24  Ahmedabad       None        Married       Graduate   \n",
       "999         999   30       Pune   Business         Single       Graduate   \n",
       "\n",
       "     No. of Family members  Annual Income  \\\n",
       "0                        5    1193875.647   \n",
       "1                        4    1844540.398   \n",
       "2                        4    2948150.113   \n",
       "3                        3    2832379.739   \n",
       "4                        4    2638750.576   \n",
       "..                     ...            ...   \n",
       "995                      7    2110722.120   \n",
       "996                      4    1616287.706   \n",
       "997                      4    2202829.029   \n",
       "998                      4    1764744.068   \n",
       "999                      4    2486664.468   \n",
       "\n",
       "    Would you prefer replacing all your vehicles to Electronic vehicles?  \\\n",
       "0                                                Maybe                     \n",
       "1                                                  Yes                     \n",
       "2                                                  Yes                     \n",
       "3                                                Maybe                     \n",
       "4                                                  Yes                     \n",
       "..                                                 ...                     \n",
       "995                                                Yes                     \n",
       "996                                                 No                     \n",
       "997                                                Yes                     \n",
       "998                                                Yes                     \n",
       "999                                                 No                     \n",
       "\n",
       "    If Yes/Maybe what type of  EV would you prefer?  \\\n",
       "0                                               SUV   \n",
       "1                                               SUV   \n",
       "2                                         Hatchback   \n",
       "3                                         Hatchback   \n",
       "4                                             Sedan   \n",
       "..                                              ...   \n",
       "995                                             SUV   \n",
       "996                                             SUV   \n",
       "997                                             SUV   \n",
       "998                                             SUV   \n",
       "999                                        Liftback   \n",
       "\n",
       "    Do you think Electronic Vehicles are economical?  \\\n",
       "0                                                Yes   \n",
       "1                                                Yes   \n",
       "2                                                Yes   \n",
       "3                                                 No   \n",
       "4                                                Yes   \n",
       "..                                               ...   \n",
       "995                                              Yes   \n",
       "996                                              Yes   \n",
       "997                                              Yes   \n",
       "998                                              Yes   \n",
       "999                                              Yes   \n",
       "\n",
       "    Which brand of vehicle do you currently own?  \\\n",
       "0                                        Hyundai   \n",
       "1                                          Honda   \n",
       "2                                            KIA   \n",
       "3                                        Hyundai   \n",
       "4                                       McLaren    \n",
       "..                                           ...   \n",
       "995                                          KIA   \n",
       "996                                          KIA   \n",
       "997                                        Honda   \n",
       "998                                       Maruti   \n",
       "999                                      Maruti    \n",
       "\n",
       "    How much money could you spend on an Electronic vehicle?  \\\n",
       "0                                             <5 lakhs         \n",
       "1                                            <15 lakhs         \n",
       "2                                            <15 lakhs         \n",
       "3                                             <5 lakhs         \n",
       "4                                            <15 lakhs         \n",
       "..                                                 ...         \n",
       "995                                          <25 lakhs         \n",
       "996                                           <5 lakhs         \n",
       "997                                          <15 lakhs         \n",
       "998                                          <15 lakhs         \n",
       "999                                           <5 lakhs         \n",
       "\n",
       "     Preference for wheels in EV  \\\n",
       "0                              2   \n",
       "1                              4   \n",
       "2                              4   \n",
       "3                              4   \n",
       "4                              4   \n",
       "..                           ...   \n",
       "995                            4   \n",
       "996                            4   \n",
       "997                            4   \n",
       "998                            4   \n",
       "999                            4   \n",
       "\n",
       "    Do you think Electronic vehicles will replace fuel cars in India?  Cluster  \n",
       "0                                     I don't think so                       1  \n",
       "1                                     Yes, in <20years                       3  \n",
       "2                                     Yes, in <20years                       0  \n",
       "3                                    Yes, in <10 years                       0  \n",
       "4                                     Yes, in <20years                       0  \n",
       "..                                                 ...                     ...  \n",
       "995                                  Yes, in <10 years                       3  \n",
       "996                                   Yes, in <20years                       3  \n",
       "997                                   Yes, in <20years                       3  \n",
       "998                                   Yes, in <20years                       3  \n",
       "999                                  Yes, in <10 years                       0  \n",
       "\n",
       "[1000 rows x 16 columns]"
      ]
     },
     "execution_count": 77,
     "metadata": {},
     "output_type": "execute_result"
    }
   ],
   "source": [
    "df1=df_Og.copy()\n",
    "df1"
   ]
  },
  {
   "cell_type": "code",
   "execution_count": 78,
   "id": "e8812fa9",
   "metadata": {},
   "outputs": [],
   "source": [
    "df1[\"City\"] = df1[\"City\"].replace({\"Pune\":\"Pune\", \"pUNE\": \"Pune\", \"pune\": \"Pune\", \"Pune \": \"Pune\"})\n",
    "df1[\"City\"] = df1[\"City\"].replace({\"Mumbai \":\"Mumbai\", \"Mumbai\": \"Mumbai\"})\n",
    "df1[\"City\"] = df1[\"City\"].replace({\"Banglore \":\"Bengaluru\"})\n",
    "df1[\"City\"] = df1[\"City\"].replace({\"Delhi\":\"New Delhi\", \"Delhi \": \"New Delhi\", \"New Delhi \": \"New Delhi\"})\n",
    "df1[\"City\"] = df1[\"City\"].replace({\"Hakdwani\":\"Haldwani\", \"Haldwani \": \"Haldwani\"})\n",
    "df1[\"City\"] = df1[\"City\"].replace({\"nashik\":\"Nashik\"})"
   ]
  },
  {
   "cell_type": "markdown",
   "id": "e28c5c1a",
   "metadata": {},
   "source": [
    "# CONCLUSION"
   ]
  },
  {
   "cell_type": "code",
   "execution_count": 89,
   "id": "9279b27c",
   "metadata": {},
   "outputs": [
    {
     "data": {
      "text/plain": [
       "0    430\n",
       "3    368\n",
       "1    195\n",
       "2      7\n",
       "Name: Cluster, dtype: int64"
      ]
     },
     "execution_count": 89,
     "metadata": {},
     "output_type": "execute_result"
    }
   ],
   "source": [
    "df1['Cluster'].value_counts() "
   ]
  },
  {
   "cell_type": "code",
   "execution_count": 80,
   "id": "c1de6b0d",
   "metadata": {},
   "outputs": [
    {
     "data": {
      "text/plain": [
       "(7, 16)"
      ]
     },
     "execution_count": 80,
     "metadata": {},
     "output_type": "execute_result"
    }
   ],
   "source": [
    "#segregating into each cluster\n",
    "Cluster_0 = df1[df1.Cluster==0]\n",
    "Cluster_1 = df1[df1.Cluster==1]\n",
    "Cluster_2 = df1[df1.Cluster==2]\n",
    "Cluster_3 = df1[df1.Cluster==3]\n",
    "Cluster_2.shape"
   ]
  },
  {
   "cell_type": "code",
   "execution_count": 81,
   "id": "6686d7be",
   "metadata": {},
   "outputs": [
    {
     "data": {
      "text/plain": [
       "[29    47\n",
       " 28    43\n",
       " 30    43\n",
       " Name: Age, dtype: int64,\n",
       " 31    28\n",
       " 30    23\n",
       " 29    23\n",
       " Name: Age, dtype: int64,\n",
       " 30    2\n",
       " 26    1\n",
       " 29    1\n",
       " Name: Age, dtype: int64,\n",
       " 29    45\n",
       " 28    42\n",
       " 30    37\n",
       " Name: Age, dtype: int64]"
      ]
     },
     "execution_count": 81,
     "metadata": {},
     "output_type": "execute_result"
    }
   ],
   "source": [
    "[Cluster_0['Age'].value_counts().head(3), \n",
    " Cluster_1['Age'].value_counts().head(3), \n",
    " Cluster_2['Age'].value_counts().head(3), \n",
    " Cluster_3['Age'].value_counts().head(3)]"
   ]
  },
  {
   "cell_type": "code",
   "execution_count": null,
   "id": "6b459785",
   "metadata": {},
   "outputs": [],
   "source": [
    "#based on the above clusters 0 and 3, AGE group 28-31 are targeted"
   ]
  },
  {
   "cell_type": "code",
   "execution_count": 82,
   "id": "59663053",
   "metadata": {},
   "outputs": [
    {
     "data": {
      "text/plain": [
       "[Pune         279\n",
       " New Delhi     28\n",
       " Mumbai        23\n",
       " Bengaluru     12\n",
       " Haldwani      10\n",
       " Name: City, dtype: int64,\n",
       " Pune         107\n",
       " Mumbai        14\n",
       " New Delhi     11\n",
       " Haldwani       6\n",
       " Chennai        6\n",
       " Name: City, dtype: int64,\n",
       " Pune         4\n",
       " Mumbai       2\n",
       " Ahmedabad    1\n",
       " Name: City, dtype: int64,\n",
       " Pune         231\n",
       " New Delhi     18\n",
       " Mumbai        17\n",
       " Haldwani      11\n",
       " Satara         9\n",
       " Name: City, dtype: int64]"
      ]
     },
     "execution_count": 82,
     "metadata": {},
     "output_type": "execute_result"
    }
   ],
   "source": [
    "[Cluster_0['City'].value_counts().head(),\n",
    " Cluster_1['City'].value_counts().head(), \n",
    " Cluster_2['City'].value_counts().head(), \n",
    " Cluster_3['City'].value_counts().head()]"
   ]
  },
  {
   "cell_type": "code",
   "execution_count": null,
   "id": "7450eba8",
   "metadata": {},
   "outputs": [],
   "source": [
    "#based on the above clusters \n",
    "#Pune & Mumbai are present in all the clusters, \n",
    "#New Delhi & Haldwani are present in 3 of 4 clusters,\n",
    "#Satara & Bengaluru are present in 1 of the 4 clusters."
   ]
  },
  {
   "cell_type": "code",
   "execution_count": 83,
   "id": "312591ee",
   "metadata": {},
   "outputs": [
    {
     "data": {
      "text/plain": [
       "[None                    207\n",
       " Working Professional    135\n",
       " Business                 73\n",
       " Salaried                 15\n",
       " Name: Profession, dtype: int64,\n",
       " None                    87\n",
       " Working Professional    68\n",
       " Business                32\n",
       " Salaried                 8\n",
       " Name: Profession, dtype: int64,\n",
       " None                    5\n",
       " Working Professional    1\n",
       " Business                1\n",
       " Name: Profession, dtype: int64,\n",
       " None                    161\n",
       " Working Professional    132\n",
       " Business                 61\n",
       " Salaried                 14\n",
       " Name: Profession, dtype: int64]"
      ]
     },
     "execution_count": 83,
     "metadata": {},
     "output_type": "execute_result"
    }
   ],
   "source": [
    "[Cluster_0['Profession'].value_counts().head(), \n",
    " Cluster_1['Profession'].value_counts().head(), \n",
    " Cluster_2['Profession'].value_counts().head(), \n",
    " Cluster_3['Profession'].value_counts().head()]"
   ]
  },
  {
   "cell_type": "code",
   "execution_count": 84,
   "id": "202ba330",
   "metadata": {},
   "outputs": [
    {
     "data": {
      "text/plain": [
       "[Single     283\n",
       " Married    147\n",
       " Name: Marital Status, dtype: int64,\n",
       " Single     133\n",
       " Married     62\n",
       " Name: Marital Status, dtype: int64,\n",
       " Married    5\n",
       " Single     2\n",
       " Name: Marital Status, dtype: int64,\n",
       " Single     220\n",
       " Married    148\n",
       " Name: Marital Status, dtype: int64]"
      ]
     },
     "execution_count": 84,
     "metadata": {},
     "output_type": "execute_result"
    }
   ],
   "source": [
    "[Cluster_0['Marital Status'].value_counts().head(), \n",
    " Cluster_1['Marital Status'].value_counts().head(), \n",
    " Cluster_2['Marital Status'].value_counts().head(), \n",
    " Cluster_3['Marital Status'].value_counts().head()]"
   ]
  },
  {
   "cell_type": "code",
   "execution_count": 85,
   "id": "8d345772",
   "metadata": {},
   "outputs": [
    {
     "data": {
      "text/plain": [
       "Yes      147\n",
       "Maybe     40\n",
       "No        33\n",
       "Name: Would you prefer replacing all your vehicles to Electronic vehicles?, dtype: int64"
      ]
     },
     "execution_count": 85,
     "metadata": {},
     "output_type": "execute_result"
    }
   ],
   "source": [
    "m=Cluster_3[Cluster_3['Marital Status']=='Single']\n",
    "m['Would you prefer replacing all your vehicles to Electronic vehicles?'].value_counts()"
   ]
  },
  {
   "cell_type": "code",
   "execution_count": null,
   "id": "f74172a2",
   "metadata": {},
   "outputs": [],
   "source": [
    "#based on the above clusters single marital status people should be targeted."
   ]
  },
  {
   "cell_type": "code",
   "execution_count": 86,
   "id": "e37803a4",
   "metadata": {},
   "outputs": [
    {
     "data": {
      "text/plain": [
       "[4    231\n",
       " 5     63\n",
       " 3     59\n",
       " 6     22\n",
       " 2     14\n",
       " Name: No. of Family members, dtype: int64,\n",
       " 4    88\n",
       " 5    37\n",
       " 3    22\n",
       " 6    14\n",
       " 8    12\n",
       " Name: No. of Family members, dtype: int64,\n",
       " 4    3\n",
       " 6    2\n",
       " 5    1\n",
       " 8    1\n",
       " Name: No. of Family members, dtype: int64,\n",
       " 4    194\n",
       " 5     57\n",
       " 3     46\n",
       " 8     22\n",
       " 6     12\n",
       " Name: No. of Family members, dtype: int64]"
      ]
     },
     "execution_count": 86,
     "metadata": {},
     "output_type": "execute_result"
    }
   ],
   "source": [
    "[Cluster_0['No. of Family members'].value_counts().head(), \n",
    " Cluster_1['No. of Family members'].value_counts().head(), \n",
    " Cluster_2['No. of Family members'].value_counts().head(), \n",
    " Cluster_3['No. of Family members'].value_counts().head()]"
   ]
  },
  {
   "cell_type": "code",
   "execution_count": null,
   "id": "085086a9",
   "metadata": {},
   "outputs": [],
   "source": [
    "#based on the above clusters families with 3-5 members should be targeted."
   ]
  },
  {
   "cell_type": "code",
   "execution_count": 87,
   "id": "fe981e55",
   "metadata": {},
   "outputs": [
    {
     "name": "stdout",
     "output_type": "stream",
     "text": [
      "SUV          191\n",
      "Sedan        115\n",
      "Hatchback     62\n",
      "Name: If Yes/Maybe what type of  EV would you prefer?, dtype: int64\n",
      "SUV         97\n",
      "Sedan       39\n",
      "Liftback    30\n",
      "Name: If Yes/Maybe what type of  EV would you prefer?, dtype: int64\n",
      "SUV          3\n",
      "Sedan        2\n",
      "Hatchback    1\n",
      "Name: If Yes/Maybe what type of  EV would you prefer?, dtype: int64\n",
      "SUV          176\n",
      "Sedan         84\n",
      "Hatchback     55\n",
      "Name: If Yes/Maybe what type of  EV would you prefer?, dtype: int64\n"
     ]
    }
   ],
   "source": [
    "print(Cluster_0['If Yes/Maybe what type of  EV would you prefer?'].value_counts().head(3))\n",
    "print(Cluster_1['If Yes/Maybe what type of  EV would you prefer?'].value_counts().head(3))\n",
    "print(Cluster_2['If Yes/Maybe what type of  EV would you prefer?'].value_counts().head(3))\n",
    "print(Cluster_3['If Yes/Maybe what type of  EV would you prefer?'].value_counts().head(3))"
   ]
  },
  {
   "cell_type": "code",
   "execution_count": null,
   "id": "65118d0f",
   "metadata": {},
   "outputs": [],
   "source": [
    "#based on above clusters people are more interested in buying SUVs followed by Sedan then Hatchback."
   ]
  },
  {
   "cell_type": "code",
   "execution_count": 88,
   "id": "db100bb6",
   "metadata": {},
   "outputs": [
    {
     "name": "stdout",
     "output_type": "stream",
     "text": [
      "<15 lakhs    216\n",
      "<5 lakhs     127\n",
      "<25 lakhs     49\n",
      ">25 lakhs     15\n",
      "1200000        7\n",
      "Name: How much money could you spend on an Electronic vehicle?, dtype: int64\n",
      "<15 lakhs    102\n",
      "<5 lakhs      53\n",
      "<25 lakhs     29\n",
      ">25 lakhs      5\n",
      "1200000        3\n",
      "Name: How much money could you spend on an Electronic vehicle?, dtype: int64\n",
      "<15 lakhs    3\n",
      "<5 lakhs     3\n",
      "<25 lakhs    1\n",
      "Name: How much money could you spend on an Electronic vehicle?, dtype: int64\n",
      "<15 lakhs    162\n",
      "<5 lakhs     105\n",
      "<25 lakhs     69\n",
      ">25 lakhs     14\n",
      "700000         6\n",
      "Name: How much money could you spend on an Electronic vehicle?, dtype: int64\n"
     ]
    }
   ],
   "source": [
    "print(Cluster_0['How much money could you spend on an Electronic vehicle?'].value_counts().head())\n",
    "print(Cluster_1['How much money could you spend on an Electronic vehicle?'].value_counts().head())\n",
    "print(Cluster_2['How much money could you spend on an Electronic vehicle?'].value_counts().head())\n",
    "print(Cluster_3['How much money could you spend on an Electronic vehicle?'].value_counts().head())"
   ]
  },
  {
   "cell_type": "code",
   "execution_count": null,
   "id": "c8f53f07",
   "metadata": {},
   "outputs": [],
   "source": [
    "#based on the above clusters, 49.09% of people only wants to spend <15 lakhs for EV\n",
    "#Only 5.47% of people willing to spend more than 25 lakhs."
   ]
  }
 ],
 "metadata": {
  "kernelspec": {
   "display_name": "Python 3 (ipykernel)",
   "language": "python",
   "name": "python3"
  },
  "language_info": {
   "codemirror_mode": {
    "name": "ipython",
    "version": 3
   },
   "file_extension": ".py",
   "mimetype": "text/x-python",
   "name": "python",
   "nbconvert_exporter": "python",
   "pygments_lexer": "ipython3",
   "version": "3.9.7"
  }
 },
 "nbformat": 4,
 "nbformat_minor": 5
}
